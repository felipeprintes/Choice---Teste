{
 "cells": [
  {
   "cell_type": "code",
   "execution_count": 176,
   "metadata": {},
   "outputs": [],
   "source": [
    "import pandas as pd\n",
    "import numpy as np"
   ]
  },
  {
   "cell_type": "code",
   "execution_count": 177,
   "metadata": {},
   "outputs": [
    {
     "data": {
      "text/html": [
       "<div>\n",
       "<style scoped>\n",
       "    .dataframe tbody tr th:only-of-type {\n",
       "        vertical-align: middle;\n",
       "    }\n",
       "\n",
       "    .dataframe tbody tr th {\n",
       "        vertical-align: top;\n",
       "    }\n",
       "\n",
       "    .dataframe thead th {\n",
       "        text-align: right;\n",
       "    }\n",
       "</style>\n",
       "<table border=\"1\" class=\"dataframe\">\n",
       "  <thead>\n",
       "    <tr style=\"text-align: right;\">\n",
       "      <th></th>\n",
       "      <th>Instalation Code</th>\n",
       "      <th>Location</th>\n",
       "      <th>Class</th>\n",
       "      <th>Phase</th>\n",
       "      <th>Fraud Probability Rate</th>\n",
       "      <th>Inspection Results</th>\n",
       "    </tr>\n",
       "  </thead>\n",
       "  <tbody>\n",
       "    <tr>\n",
       "      <th>0</th>\n",
       "      <td>10001</td>\n",
       "      <td>Ilha Azul</td>\n",
       "      <td>Residential</td>\n",
       "      <td>1 Phase</td>\n",
       "      <td>0,1</td>\n",
       "      <td>No Fraud</td>\n",
       "    </tr>\n",
       "    <tr>\n",
       "      <th>1</th>\n",
       "      <td>1002</td>\n",
       "      <td>Ilha Azul</td>\n",
       "      <td>Residential</td>\n",
       "      <td>1 Phase</td>\n",
       "      <td>0,7</td>\n",
       "      <td>Fraud</td>\n",
       "    </tr>\n",
       "    <tr>\n",
       "      <th>2</th>\n",
       "      <td>3</td>\n",
       "      <td>Ilha Azul</td>\n",
       "      <td>Residential</td>\n",
       "      <td>1 Phase</td>\n",
       "      <td>0,5</td>\n",
       "      <td>Fraud</td>\n",
       "    </tr>\n",
       "    <tr>\n",
       "      <th>3</th>\n",
       "      <td>1004</td>\n",
       "      <td>Ilha Azul</td>\n",
       "      <td>Residential</td>\n",
       "      <td>1 Phase</td>\n",
       "      <td>0,1</td>\n",
       "      <td>No Fraud</td>\n",
       "    </tr>\n",
       "    <tr>\n",
       "      <th>4</th>\n",
       "      <td>13</td>\n",
       "      <td>Ilha Azul</td>\n",
       "      <td>Residential</td>\n",
       "      <td>1 Phase</td>\n",
       "      <td>0,1</td>\n",
       "      <td>No Fraud</td>\n",
       "    </tr>\n",
       "  </tbody>\n",
       "</table>\n",
       "</div>"
      ],
      "text/plain": [
       "   Instalation Code   Location        Class    Phase Fraud Probability Rate  \\\n",
       "0             10001  Ilha Azul  Residential  1 Phase                    0,1   \n",
       "1              1002  Ilha Azul  Residential  1 Phase                    0,7   \n",
       "2                 3  Ilha Azul  Residential  1 Phase                    0,5   \n",
       "3              1004  Ilha Azul  Residential  1 Phase                    0,1   \n",
       "4                13  Ilha Azul  Residential  1 Phase                    0,1   \n",
       "\n",
       "  Inspection Results  \n",
       "0           No Fraud  \n",
       "1              Fraud  \n",
       "2              Fraud  \n",
       "3           No Fraud  \n",
       "4           No Fraud  "
      ]
     },
     "execution_count": 177,
     "metadata": {},
     "output_type": "execute_result"
    }
   ],
   "source": [
    "arquivo = pd.read_csv('data.csv')\n",
    "arquivo.head()"
   ]
  },
  {
   "cell_type": "code",
   "execution_count": 255,
   "metadata": {},
   "outputs": [],
   "source": [
    "#Jogando para um array os valores de location\n",
    "valores_location = pd.value_counts(arquivo['Location'])\n",
    "valores_location\n",
    "array_valores_location = np.array(valores_location)"
   ]
  },
  {
   "cell_type": "code",
   "execution_count": 233,
   "metadata": {},
   "outputs": [],
   "source": [
    "array_ilha_azul = np.where(arquivo['Location']=='Ilha Azul')\n",
    "df = pd.DataFrame(array_valores_location, columns=['Qtd'], index=['Ilha Azul', 'Vilha Velha'])"
   ]
  },
  {
   "cell_type": "code",
   "execution_count": 250,
   "metadata": {},
   "outputs": [
    {
     "data": {
      "text/plain": [
       "52.74725274725275"
      ]
     },
     "execution_count": 250,
     "metadata": {},
     "output_type": "execute_result"
    }
   ],
   "source": [
    "#proporção ilha azul\n",
    "proporcao_ilhaAzul = array_valores_location[0]/array_valores_location.sum()\n",
    "proporcao_ilhaAzul*100\n"
   ]
  },
  {
   "cell_type": "code",
   "execution_count": 249,
   "metadata": {},
   "outputs": [
    {
     "data": {
      "text/plain": [
       "47.25274725274725"
      ]
     },
     "execution_count": 249,
     "metadata": {},
     "output_type": "execute_result"
    }
   ],
   "source": [
    "#proporção vila velha\n",
    "proporcao_vilaVelha = array_valores_location[1]/array_valores_location.sum()\n",
    "proporcao_vilaVelha*100"
   ]
  },
  {
   "cell_type": "code",
   "execution_count": 259,
   "metadata": {},
   "outputs": [
    {
     "name": "stdout",
     "output_type": "stream",
     "text": [
      "52.74725274725275\n",
      "47.25274725274725\n"
     ]
    }
   ],
   "source": [
    "#class ---> proporção Commercial\n",
    "array_class = np.array(pd.value_counts(arquivo['Class']))\n",
    "\n",
    "#calculando a proporção comercial\n",
    "proporcao_commercial = array_class[0]/array_class.sum()*100\n",
    "print(proporcao_commercial)\n",
    "#calculando a proporção residencial\n",
    "proporcao_residencial = array_class[1]/array_class.sum()*100\n",
    "print(proporcao_residencial)"
   ]
  },
  {
   "cell_type": "code",
   "execution_count": 269,
   "metadata": {},
   "outputs": [
    {
     "name": "stdout",
     "output_type": "stream",
     "text": [
      "73.62637362637363\n",
      "26.373626373626376\n"
     ]
    }
   ],
   "source": [
    "#Inspection results\n",
    "\n",
    "inspection_results = np.array(pd.value_counts(arquivo['Inspection Results']))\n",
    "\n",
    "#calculando porporções do inspection result\n",
    "proporcao_fraud = inspection_results[0]/inspection_results.sum()*100\n",
    "print(proporcao_fraud)\n",
    "proporcao_nao_fraud = inspection_results[1]/inspection_results.sum()*100\n",
    "print(proporcao_nao_fraud)"
   ]
  },
  {
   "cell_type": "code",
   "execution_count": 274,
   "metadata": {},
   "outputs": [],
   "source": [
    "#Adicionando a Coluna de Acerto_Erro ao data frame\n",
    "arquivo['Acerto_Erro'] = 0\n"
   ]
  },
  {
   "cell_type": "code",
   "execution_count": 277,
   "metadata": {},
   "outputs": [],
   "source": [
    "#Jogando 1 para valores de Fraud Probability que são maiores ou iguais a 0.5\n",
    "arquivo['Acerto_Erro'] = np.where(arquivo['Fraud Probability Rate']>='0,5', 1, 0)"
   ]
  },
  {
   "cell_type": "code",
   "execution_count": 288,
   "metadata": {},
   "outputs": [
    {
     "name": "stdout",
     "output_type": "stream",
     "text": [
      "55\n",
      "12\n",
      "14\n",
      "10\n"
     ]
    }
   ],
   "source": [
    "#criando tabela para calculo das taxas de acerto\n",
    "tabela_taxa = pd.DataFrame(index=['fraud', 'no fraud'], columns=['Acerto', 'Erro'])\n",
    "\n",
    "#Contando quantos valores estao \"certos\"->'No Fraud' de acordo com o modelo\n",
    "model_acerto = len(arquivo[(arquivo['Inspection Results']=='No Fraud') & (arquivo['Acerto_Erro']==0)])\n",
    "print(model_acerto)\n",
    "#Contando quantos valores estao \"errados\"->'No Fraud' de acordo com o modelo\n",
    "model_erro = len(arquivo[(arquivo['Inspection Results']=='No Fraud') & (arquivo['Acerto_Erro']==1)])\n",
    "print(model_erro)\n",
    "\n",
    "##Contando quantos valores estao \"certos\"->'Fraud' de acordo com o modelo\n",
    "model_fraud_acerto = len(arquivo[(arquivo['Inspection Results']=='Fraud') & (arquivo['Acerto_Erro']==0)])\n",
    "print(model_fraud_acerto)\n",
    "##Contando quantos valores estao \"errados\"->'Fraud' de acordo com o modelo\n",
    "model_fraud_erro = len(arquivo[(arquivo['Inspection Results']=='Fraud') & (arquivo['Acerto_Erro']==1)])\n",
    "print(model_fraud_erro)"
   ]
  },
  {
   "cell_type": "code",
   "execution_count": 289,
   "metadata": {},
   "outputs": [],
   "source": [
    "#criação da tabela valor_verdade\n",
    "valor_verdade = pd.DataFrame(index=['fraud', 'no fraud'], columns=['Nao_Fraude_Estimado', 'Fraude_Estimado'])"
   ]
  },
  {
   "cell_type": "code",
   "execution_count": 292,
   "metadata": {},
   "outputs": [],
   "source": [
    "valor_verdade.loc['no fraud', 'Nao_Fraude_Estimado'] = model_acerto\n",
    "valor_verdade.loc['no fraud', 'Fraude_Estimado'] = model_erro\n",
    "valor_verdade.loc['fraud', 'Nao_Fraude_Estimado'] = model_fraud_acerto\n",
    "valor_verdade.loc['fraud', 'Fraude_Estimado'] = model_fraud_erro"
   ]
  },
  {
   "cell_type": "code",
   "execution_count": 308,
   "metadata": {},
   "outputs": [
    {
     "data": {
      "text/html": [
       "<div>\n",
       "<style scoped>\n",
       "    .dataframe tbody tr th:only-of-type {\n",
       "        vertical-align: middle;\n",
       "    }\n",
       "\n",
       "    .dataframe tbody tr th {\n",
       "        vertical-align: top;\n",
       "    }\n",
       "\n",
       "    .dataframe thead th {\n",
       "        text-align: right;\n",
       "    }\n",
       "</style>\n",
       "<table border=\"1\" class=\"dataframe\">\n",
       "  <thead>\n",
       "    <tr style=\"text-align: right;\">\n",
       "      <th></th>\n",
       "      <th>Nao_Fraude_Estimado</th>\n",
       "      <th>Fraude_Estimado</th>\n",
       "    </tr>\n",
       "  </thead>\n",
       "  <tbody>\n",
       "    <tr>\n",
       "      <th>fraud</th>\n",
       "      <td>14.0</td>\n",
       "      <td>10.0</td>\n",
       "    </tr>\n",
       "    <tr>\n",
       "      <th>no fraud</th>\n",
       "      <td>55.0</td>\n",
       "      <td>12.0</td>\n",
       "    </tr>\n",
       "  </tbody>\n",
       "</table>\n",
       "</div>"
      ],
      "text/plain": [
       "          Nao_Fraude_Estimado  Fraude_Estimado\n",
       "fraud                    14.0             10.0\n",
       "no fraud                 55.0             12.0"
      ]
     },
     "execution_count": 308,
     "metadata": {},
     "output_type": "execute_result"
    }
   ],
   "source": [
    "valor_verdade"
   ]
  },
  {
   "cell_type": "code",
   "execution_count": 365,
   "metadata": {},
   "outputs": [
    {
     "name": "stdout",
     "output_type": "stream",
     "text": [
      "5\n",
      "36\n",
      "6\n",
      "1\n",
      "84.0909090909091\n"
     ]
    }
   ],
   "source": [
    "#pegar valores que são fraudes e location é Ilha azul\n",
    "#quando valor de fraude estimado bate com o modelo\n",
    "fraud_estimado_ilhaazul_bate = len(arquivo[(arquivo['Inspection Results']=='Fraud') & (arquivo['Acerto_Erro']==1) & (arquivo['Location']=='Ilha Azul')])\n",
    "print(fraud_estimado_ilhaazul_bate)\n",
    "\n",
    "#quando o valor de fraude estimado bate com o modelo\n",
    "nao_fraud_estimado_ilhaazul_bate = len(arquivo[(arquivo['Inspection Results']=='No Fraud') & (arquivo['Acerto_Erro']==0) & (arquivo['Location']=='Ilha Azul')])\n",
    "print(nao_fraud_estimado_ilhaazul_bate)\n",
    "\n",
    "#quando o valor de fraude estimado não bate com o modelo\n",
    "fraud_estimado_ilhaazul_nao_bate = len(arquivo[(arquivo['Inspection Results']=='Fraud') & (arquivo['Acerto_Erro']==0) & (arquivo['Location']=='Ilha Azul')])\n",
    "print(fraud_estimado_ilhaazul_nao_bate)\n",
    "\n",
    "#quando o valor de fraude estimado não bate com o modelo\n",
    "fraud_estimado_ilhaazul_bate = len(arquivo[(arquivo['Inspection Results']=='No Fraud') & (arquivo['Acerto_Erro']==1) & (arquivo['Location']=='Ilha Azul')])\n",
    "print(fraud_estimado_ilhaazul_bate)\n",
    "\n",
    "vet_fraude_ilhaazul = [fraud_estimado_ilhaazul_bate,nao_fraud_estimado_ilhaazul_bate,fraud_estimado_ilhaazul_nao_bate,fraud_estimado_ilhaazul_bate]\n",
    "\n",
    "vet_fraude_ilhaazul = np.array(vet_fraude_ilhaazul)\n",
    "\n",
    "taxa_de_acerto_ilhaazul = (vet_fraude_ilhaazul[0]+vet_fraude_ilhaazul[1])/vet_fraude_ilhaazul.sum()*100\n",
    "print(taxa_de_acerto_ilhaazul)"
   ]
  },
  {
   "cell_type": "code",
   "execution_count": 374,
   "metadata": {},
   "outputs": [
    {
     "name": "stdout",
     "output_type": "stream",
     "text": [
      "5\n",
      "8\n",
      "19\n",
      "11\n",
      "55.81395348837209\n"
     ]
    }
   ],
   "source": [
    "fraud_estimado_vilavelha_bate = len(arquivo[(arquivo['Inspection Results']=='Fraud') & (arquivo['Acerto_Erro']==1) & (arquivo['Location']=='Vila Velha')])\n",
    "print(fraud_estimado_vilavelha_bate)\n",
    "\n",
    "nao_fraud_estimado_vilavelha_nao_bate = len(arquivo[(arquivo['Inspection Results']=='Fraud') & (arquivo['Acerto_Erro']==0) & (arquivo['Location']=='Vila Velha')])\n",
    "print(nao_fraud_estimado_vilavelha_nao_bate)\n",
    "\n",
    "fraude_estimado_vilavelha_bate = len(arquivo[(arquivo['Inspection Results']=='No Fraud') & (arquivo['Acerto_Erro']==0) & (arquivo['Location']=='Vila Velha')])\n",
    "print(fraude_estimado_vilavelha_bate)\n",
    "\n",
    "fraude_estimado_vilavelha_nao_bate = len(arquivo[(arquivo['Inspection Results']=='No Fraud') & (arquivo['Acerto_Erro']==1) & (arquivo['Location']=='Vila Velha')])\n",
    "print(fraude_estimado_vilavelha_nao_bate)\n",
    "\n",
    "vet_fraude_vilavelha = [fraud_estimado_vilavelha_bate,nao_fraud_estimado_vilavelha_nao_bate,fraude_estimado_vilavelha_bate,fraude_estimado_vilavelha_nao_bate]\n",
    "\n",
    "vet_fraude_vilavelha = np.array(vet_fraude_vilavelha)\n",
    "\n",
    "taxa_de_acerto_vilavelha = (vet_fraude_vilavelha[0]+vet_fraude_vilavelha[2])/vet_fraude_vilavelha.sum()*100\n",
    "print(taxa_de_acerto_vilavelha)"
   ]
  },
  {
   "cell_type": "code",
   "execution_count": 381,
   "metadata": {},
   "outputs": [
    {
     "name": "stdout",
     "output_type": "stream",
     "text": [
      "7\n",
      "38\n",
      "3\n",
      "0\n",
      "92.6829268292683\n"
     ]
    }
   ],
   "source": [
    "#pegar valores que são fraudes e location é Ilha azul\n",
    "#quando valor de fraude estimado bate com o modelo\n",
    "fraud_estimado_ilhaazul_bate = len(arquivo[(arquivo['Inspection Results']=='Fraud') & (arquivo['Acerto_Erro']==1) & (arquivo['Class']=='Commercial')])\n",
    "print(fraud_estimado_ilhaazul_bate)\n",
    "\n",
    "#quando o valor de fraude estimado bate com o modelo\n",
    "nao_fraud_estimado_ilhaazul_bate = len(arquivo[(arquivo['Inspection Results']=='No Fraud') & (arquivo['Acerto_Erro']==0) & (arquivo['Class']=='Commercial')])\n",
    "print(nao_fraud_estimado_ilhaazul_bate)\n",
    "\n",
    "#quando o valor de fraude estimado não bate com o modelo\n",
    "fraud_estimado_ilhaazul_nao_bate = len(arquivo[(arquivo['Inspection Results']=='Fraud') & (arquivo['Acerto_Erro']==0) & (arquivo['Class']=='Commercial')])\n",
    "print(fraud_estimado_ilhaazul_nao_bate)\n",
    "\n",
    "#quando o valor de fraude estimado não bate com o modelo\n",
    "fraud_estimado_ilhaazul_bate = len(arquivo[(arquivo['Inspection Results']=='No Fraud') & (arquivo['Acerto_Erro']==1) & (arquivo['Class']=='Commercial')])\n",
    "print(fraud_estimado_ilhaazul_bate)\n",
    "\n",
    "vet_fraude_ilhaazul = [fraud_estimado_ilhaazul_bate,nao_fraud_estimado_ilhaazul_bate,fraud_estimado_ilhaazul_nao_bate,fraud_estimado_ilhaazul_bate]\n",
    "\n",
    "vet_fraude_ilhaazul = np.array(vet_fraude_ilhaazul)\n",
    "\n",
    "taxa_de_acerto_ilhaazul = (vet_fraude_ilhaazul[0]+vet_fraude_ilhaazul[1])/vet_fraude_ilhaazul.sum()*100\n",
    "print(taxa_de_acerto_ilhaazul)"
   ]
  },
  {
   "cell_type": "code",
   "execution_count": 414,
   "metadata": {},
   "outputs": [],
   "source": [
    "#essa função tem como objetivo calcular as taxas de acertos \n",
    "def teste(arquivo):\n",
    "    #Pegar a coluna, exemplo: 'Class', 'Location', etc\n",
    "    coluna = input('Entre com a coluna: ')\n",
    "    #entre com o valor da coluna escolhida\n",
    "    valor = input('Entre com o valor da coluna escolhida')\n",
    "    \n",
    "    fraud_estimado_bate = len(arquivo[(arquivo['Inspection Results']=='Fraud') & (arquivo['Acerto_Erro']==1) & (arquivo[coluna]==valor)])\n",
    "    print(fraud_estimado_bate)\n",
    "\n",
    "    #quando o valor de fraude estimado bate com o modelo\n",
    "    nao_fraud_estimado_bate = len(arquivo[(arquivo['Inspection Results']=='No Fraud') & (arquivo['Acerto_Erro']==0) & (arquivo[coluna]==valor)])\n",
    "    print(nao_fraud_estimado_bate)\n",
    "\n",
    "    #quando o valor de fraude estimado não bate com o modelo\n",
    "    fraud_estimado_nao_bate = len(arquivo[(arquivo['Inspection Results']=='Fraud') & (arquivo['Acerto_Erro']==0) & (arquivo[coluna]==valor)])\n",
    "    print(fraud_estimado_nao_bate)\n",
    "\n",
    "    #quando o valor de fraude estimado não bate com o modelo\n",
    "    fraud_estimado_bate = len(arquivo[(arquivo['Inspection Results']=='No Fraud') & (arquivo['Acerto_Erro']==1) & (arquivo[coluna]==valor)])\n",
    "    print(fraud_estimado_bate)\n",
    "\n",
    "    vet_fraude = [fraud_estimado_bate,nao_fraud_estimado_bate,fraud_estimado_nao_bate,fraud_estimado_bate]\n",
    "\n",
    "    vet_fraude = np.array(vet_fraude)\n",
    "\n",
    "    taxa_de_acerto = (vet_fraude[0]+vet_fraude[1])/vet_fraude.sum()*100\n",
    "    print(taxa_de_acerto)\n",
    "    \n",
    "    return taxa_de_acerto"
   ]
  },
  {
   "cell_type": "code",
   "execution_count": 415,
   "metadata": {},
   "outputs": [
    {
     "name": "stdout",
     "output_type": "stream",
     "text": [
      "Entre com a coluna: Class\n",
      "Entre com o valor da coluna escolhidaResidential\n",
      "3\n",
      "17\n",
      "11\n",
      "12\n",
      "55.769230769230774\n"
     ]
    },
    {
     "data": {
      "text/plain": [
       "55.769230769230774"
      ]
     },
     "execution_count": 415,
     "metadata": {},
     "output_type": "execute_result"
    }
   ],
   "source": [
    "#Ao chamar a função, será pedido a coluna a ser analisada e o Valor da mesma\n",
    "teste(arquivo)"
   ]
  },
  {
   "cell_type": "code",
   "execution_count": null,
   "metadata": {},
   "outputs": [],
   "source": []
  }
 ],
 "metadata": {
  "kernelspec": {
   "display_name": "Python 3",
   "language": "python",
   "name": "python3"
  },
  "language_info": {
   "codemirror_mode": {
    "name": "ipython",
    "version": 3
   },
   "file_extension": ".py",
   "mimetype": "text/x-python",
   "name": "python",
   "nbconvert_exporter": "python",
   "pygments_lexer": "ipython3",
   "version": "3.6.4"
  }
 },
 "nbformat": 4,
 "nbformat_minor": 2
}
